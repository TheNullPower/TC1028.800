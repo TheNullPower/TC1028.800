{
  "nbformat": 4,
  "nbformat_minor": 0,
  "metadata": {
    "colab": {
      "name": "Actividad 5.ipynb",
      "provenance": [],
      "authorship_tag": "ABX9TyNvA+juB7LB0CQepE4FLA90"
    },
    "kernelspec": {
      "name": "python3",
      "display_name": "Python 3"
    },
    "language_info": {
      "name": "python"
    }
  },
  "cells": [
    {
      "cell_type": "markdown",
      "metadata": {
        "id": "iFWhGxwXqjbT"
      },
      "source": [
        "# Actividad en clase 5: Construcción de programas que toman decisiones - IF"
      ]
    },
    {
      "cell_type": "markdown",
      "metadata": {
        "id": "jUYWkEq-52lp"
      },
      "source": [
        ""
      ]
    },
    {
      "cell_type": "code",
      "metadata": {
        "id": "gDAIGguvqdvi"
      },
      "source": [
        "covid = True"
      ],
      "execution_count": null,
      "outputs": []
    },
    {
      "cell_type": "code",
      "metadata": {
        "colab": {
          "base_uri": "https://localhost:8080/"
        },
        "id": "GwRaMLGfq0eO",
        "outputId": "5b01aebf-9137-4bf8-9933-c3ffd4074514"
      },
      "source": [
        "covid"
      ],
      "execution_count": null,
      "outputs": [
        {
          "output_type": "execute_result",
          "data": {
            "text/plain": [
              "True"
            ]
          },
          "metadata": {},
          "execution_count": 4
        }
      ]
    },
    {
      "cell_type": "code",
      "metadata": {
        "colab": {
          "base_uri": "https://localhost:8080/"
        },
        "id": "XbKDQByfq6NL",
        "outputId": "0f200ecf-06e1-4b4c-9e98-46e178ba3d41"
      },
      "source": [
        "type(covid)"
      ],
      "execution_count": null,
      "outputs": [
        {
          "output_type": "execute_result",
          "data": {
            "text/plain": [
              "bool"
            ]
          },
          "metadata": {},
          "execution_count": 6
        }
      ]
    },
    {
      "cell_type": "code",
      "metadata": {
        "colab": {
          "base_uri": "https://localhost:8080/"
        },
        "id": "5Y6CelFWq-4v",
        "outputId": "32333682-8fa0-4636-b9ea-7739b635fdd5"
      },
      "source": [
        "covid = False\n",
        "\n",
        "if covid == True:\n",
        "  print(\"Quédate en casa\")\n",
        "\n",
        "else:\n",
        "  print(\"Puedes salir\")"
      ],
      "execution_count": null,
      "outputs": [
        {
          "output_type": "stream",
          "text": [
            "Puedes salir\n"
          ],
          "name": "stdout"
        }
      ]
    },
    {
      "cell_type": "code",
      "metadata": {
        "colab": {
          "base_uri": "https://localhost:8080/"
        },
        "id": "Cqfd5IydrYW_",
        "outputId": "5e50f12d-7e80-465c-9183-59ebfc55ca36"
      },
      "source": [
        "# PROBLEMA 1\n",
        "\n",
        "a = int(input(\"Dame un número: \"))\n",
        "b = int(input(\"Dame un número: \"))\n",
        "c = int(input(\"Dame un número: \"))\n",
        "\n",
        "if a < b and a < c and b < c:\n",
        "  print(a)\n",
        "  print(b)\n",
        "  print(c)\n",
        "\n",
        "elif b < a and b < c and a < c:\n",
        "  print(b)\n",
        "  print(a)\n",
        "  print(c)\n",
        "\n",
        "elif c < a and c < b and a < b:\n",
        "  print(c)\n",
        "  print(a)\n",
        "  print(b)\n",
        "\n",
        "elif a < b and a < c and c < b:\n",
        "  print(a)\n",
        "  print(c)\n",
        "  print(b)\n",
        "\n",
        "elif b < a and b < c and c < a:\n",
        "  print(b)\n",
        "  print(c)\n",
        "  print(a)\n",
        "\n",
        "elif c < a and c < b and b < a:\n",
        "  print(c)\n",
        "  print(b)\n",
        "  print(a)"
      ],
      "execution_count": null,
      "outputs": [
        {
          "output_type": "stream",
          "text": [
            "Dame un número: 10\n",
            "Dame un número: 5\n",
            "Dame un número: 8\n",
            "5\n",
            "8\n",
            "10\n"
          ],
          "name": "stdout"
        }
      ]
    },
    {
      "cell_type": "markdown",
      "metadata": {
        "id": "rUKeuvUSyXDh"
      },
      "source": [
        "### Problema 2"
      ]
    },
    {
      "cell_type": "code",
      "metadata": {
        "colab": {
          "base_uri": "https://localhost:8080/"
        },
        "id": "tfv64ZKLySlo",
        "outputId": "50cdc105-e3f7-4e40-a42e-faed612afe5f"
      },
      "source": [
        "peso = float(input(\"Ingresa el peso en kilos: \"))\n",
        "altura = float(input(\"Ingresa la altura en metros: \"))\n",
        "\n",
        "imc = peso / altura ** 2\n",
        "\n",
        "print(\"Tu imc es de,\", imc)\n",
        "print(\"Lo que significa que tienes:\")\n",
        "\n",
        "if imc < 20:\n",
        "  print(\"Peso bajo\")\n",
        "\n",
        "elif 20 <= imc and imc < 25:\n",
        "  print(\"Peso normal\")\n",
        "\n",
        "elif 25 <= imc and imc < 30:\n",
        "  print(\"Sobrepeso\")\n",
        "\n",
        "elif 30 <= imc and imc < 40:\n",
        "  print(\"Obsesidad\")\n",
        "\n",
        "else:\n",
        "  print(\"No existe una descripción de peso\")\n"
      ],
      "execution_count": null,
      "outputs": [
        {
          "output_type": "stream",
          "text": [
            "Ingresa el peso en kilos: 300\n",
            "Ingresa la altura en metros: 1.5\n",
            "Tu imc es de, 133.33333333333334\n",
            "Lo que significa que tienes:\n",
            "No existe una descripción de peso\n"
          ],
          "name": "stdout"
        }
      ]
    }
  ]
}