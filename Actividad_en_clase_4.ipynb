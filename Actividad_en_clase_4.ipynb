{
  "nbformat": 4,
  "nbformat_minor": 0,
  "metadata": {
    "colab": {
      "name": "Actividad en clase 4.ipynb",
      "provenance": [],
      "authorship_tag": "ABX9TyOHT35QwSN2Wt9G7ntckLFz"
    },
    "kernelspec": {
      "name": "python3",
      "display_name": "Python 3"
    },
    "language_info": {
      "name": "python"
    }
  },
  "cells": [
    {
      "cell_type": "markdown",
      "metadata": {
        "id": "CvHQBmtX1hsQ"
      },
      "source": [
        "Problema 1"
      ]
    },
    {
      "cell_type": "code",
      "metadata": {
        "colab": {
          "base_uri": "https://localhost:8080/"
        },
        "id": "REQV3Lnj1eoz",
        "outputId": "1bc4761f-e201-40ee-95e7-8fd6e9dfa3e1"
      },
      "source": [
        "def uno (a, b) :\n",
        "     a = a + 5\n",
        "     b += 10\n",
        "     print(a, b) # 10, 18\n",
        "     return b\n",
        "\n",
        "def main() :\n",
        "     x = 5\n",
        "     y = 8\n",
        "     z = uno(x, y)\n",
        "     print(x, y, z) # 5, 8, 18\n",
        "\n",
        "main()"
      ],
      "execution_count": null,
      "outputs": [
        {
          "output_type": "stream",
          "text": [
            "10 18\n",
            "5 8 18\n"
          ],
          "name": "stdout"
        }
      ]
    },
    {
      "cell_type": "markdown",
      "metadata": {
        "id": "zmnCYtC3CBVF"
      },
      "source": [
        "Problema **2**"
      ]
    },
    {
      "cell_type": "code",
      "metadata": {
        "colab": {
          "base_uri": "https://localhost:8080/"
        },
        "id": "TEczuxOy2oRb",
        "outputId": "6228d805-1b81-4825-821c-be01f300debd"
      },
      "source": [
        "def equivalente(h, m, s):\n",
        "  total_segundos = (h * 60 * 60) + (m * 60) + s\n",
        "\n",
        "  return total_segundos\n",
        "\n",
        "def main():\n",
        "\n",
        "  horas = int(input(\"Ingresa las horas: \"))\n",
        "  minutos = int(input(\"Ingresa los minutos: \"))\n",
        "  segundos = int(input(\"Ingresa los segundos: \"))\n",
        "\n",
        "  print(\"El total de segundos es\", equivalente(horas, minutos, segundos))\n",
        "\n",
        "main()\n",
        "main()"
      ],
      "execution_count": null,
      "outputs": [
        {
          "output_type": "stream",
          "text": [
            "Ingresa las horas: 2\n",
            "Ingresa los minutos: 20\n",
            "Ingresa los segundos: 8\n",
            "El total de segundos es 8408\n",
            "Ingresa las horas: 1\n",
            "Ingresa los minutos: 1\n",
            "Ingresa los segundos: 1\n",
            "El total de segundos es 3661\n"
          ],
          "name": "stdout"
        }
      ]
    },
    {
      "cell_type": "markdown",
      "metadata": {
        "id": "zAlBccGaCD3c"
      },
      "source": [
        "**Problema 3**"
      ]
    },
    {
      "cell_type": "code",
      "metadata": {
        "colab": {
          "base_uri": "https://localhost:8080/"
        },
        "id": "lWfGr5H-BtSW",
        "outputId": "b6fb2c0b-5d0c-4418-8e22-69b9d674f709"
      },
      "source": [
        "def area_rectangulo(a, h):\n",
        "\n",
        "  area = a * h\n",
        "\n",
        "  return area\n",
        "\n",
        "def perimetro_rectangulo(a, h):\n",
        "\n",
        "  perimetro = a * 2 + h * 2\n",
        "\n",
        "  return perimetro\n",
        "\n",
        "def main():\n",
        "\n",
        "  ancho = int(input(\"Ingresa el ancho: \"))\n",
        "  altura = int(input(\"Ingresa la altura: \"))\n",
        "\n",
        "  print(\"El área es:\", area_rectangulo(ancho, altura))\n",
        "  print(\"El perímetro es\", perimetro_rectangulo(ancho, altura))\n",
        "\n",
        "main()"
      ],
      "execution_count": null,
      "outputs": [
        {
          "output_type": "stream",
          "text": [
            "Ingresa el ancho: 10\n",
            "Ingresa la altura: 5\n",
            "El área es: 50\n",
            "El perímetro es 30\n"
          ],
          "name": "stdout"
        }
      ]
    }
  ]
}