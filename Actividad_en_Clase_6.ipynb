{
  "nbformat": 4,
  "nbformat_minor": 0,
  "metadata": {
    "colab": {
      "name": "Actividad en Clase 6.ipynb",
      "provenance": [],
      "authorship_tag": "ABX9TyPUeFgc2RxUC3hu7JoPvPUJ"
    },
    "kernelspec": {
      "name": "python3",
      "display_name": "Python 3"
    },
    "language_info": {
      "name": "python"
    }
  },
  "cells": [
    {
      "cell_type": "markdown",
      "metadata": {
        "id": "1zoHurrJZuAh"
      },
      "source": [
        "### Problema 1"
      ]
    },
    {
      "cell_type": "code",
      "metadata": {
        "id": "-XFQoJGPO_h2",
        "colab": {
          "base_uri": "https://localhost:8080/",
          "height": 88
        },
        "outputId": "e620ea68-1e83-43bf-baf4-1f9271d991c9"
      },
      "source": [
        "def tipo_triangulo(x, y, z):\n",
        "\n",
        "  condicion_ceros = x > 0 and y > 0 and z > 0 \n",
        "  condicion_lados1 = x + y > z\n",
        "  condicion_lados2 = x + z > y\n",
        "  condicion_lados3 = y + z > x\n",
        "  condicion_equilatero = x == y and x == z\n",
        "  condicion_escaleno = x != y and x != z and y != z\n",
        "  condicion_isosceles = x == y or x == z or y == z\n",
        "  \n",
        "  if condicion_ceros and condicion_lados1 and condicion_lados2 and condicion_lados3 and condicion_equilatero == True:\n",
        "    triangulo = \"Equilatero\"\n",
        "  elif condicion_ceros and condicion_lados1 and condicion_lados2 and condicion_lados3 and condicion_escaleno == True:\n",
        "    triangulo = \"Escaleno\"\n",
        "  elif condicion_ceros and condicion_lados1 and condicion_lados2 and condicion_lados3 and condicion_isosceles == True:\n",
        "    triangulo = \"Isóceles\"\n",
        "  else:\n",
        "    triangulo = \"Los valores ingresados no pueden formar un triángulo\"\n",
        "\n",
        "  return triangulo\n",
        "\n",
        "lado1 = int(input(\"Ingresa el lado 1:\"))\n",
        "lado2 = int(input(\"Ingresa el lado 2:\"))\n",
        "lado3 = int(input(\"Ingresa el lado 3:\"))\n",
        "\n",
        "tipo_triangulo(lado1, lado2, lado3)"
      ],
      "execution_count": 23,
      "outputs": [
        {
          "output_type": "stream",
          "text": [
            "Ingresa el lado 1:5\n",
            "Ingresa el lado 2:5\n",
            "Ingresa el lado 3:8\n"
          ],
          "name": "stdout"
        },
        {
          "output_type": "execute_result",
          "data": {
            "application/vnd.google.colaboratory.intrinsic+json": {
              "type": "string"
            },
            "text/plain": [
              "'Isóceles'"
            ]
          },
          "metadata": {},
          "execution_count": 23
        }
      ]
    },
    {
      "cell_type": "markdown",
      "metadata": {
        "id": "hlfp-HkjZw1Z"
      },
      "source": [
        "### Problema 2"
      ]
    },
    {
      "cell_type": "code",
      "metadata": {
        "colab": {
          "base_uri": "https://localhost:8080/"
        },
        "id": "oLcCLiLVZzAW",
        "outputId": "94b5cb79-3ca0-4715-cd3a-104ab5b2b94a"
      },
      "source": [
        "import math\n",
        "\n",
        "def encuentra_punto():\n",
        "\n",
        "  radio = int(input(\"Ingresa el radio del círculo: \"))\n",
        "\n",
        "  if radio <= 0:\n",
        "    print(\"Ingresa un radio válido mayor a cero\")\n",
        "\n",
        "  else:\n",
        "    x1_centro = int(input(\"Ingresa la coordenada x del centro del círculo: \"))\n",
        "    y1_centro = int(input(\"Ingresa la coordenada y del centro del círculo: \"))\n",
        "\n",
        "    x2_punto = int(input(\"Ingresa la coordenada x del centro del punto: \"))\n",
        "    y2_punto = int(input(\"Ingresa la coordenada y del centro del punto: \"))\n",
        "\n",
        "    distancia = math.sqrt((x2_punto - x1_centro) ** 2 + (y2_punto - y1_centro)**2)\n",
        "\n",
        "    if distancia > radio:\n",
        "      print(\"El punto está fuera del círculo\")\n",
        "    else:\n",
        "      print(\"El punto está dentro del círculo\")\n",
        "\n",
        "encuentra_punto()"
      ],
      "execution_count": 22,
      "outputs": [
        {
          "output_type": "stream",
          "text": [
            "Ingresa el radio del círculo: 5\n",
            "Ingresa la coordenada x del centro del círculo: 0\n",
            "Ingresa la coordenada y del centro del círculo: 0\n",
            "Ingresa la coordenada x del centro del punto: 0\n",
            "Ingresa la coordenada y del centro del punto: -2\n",
            "El punto está dentro del círculo\n"
          ],
          "name": "stdout"
        }
      ]
    }
  ]
}