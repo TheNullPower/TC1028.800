{
  "nbformat": 4,
  "nbformat_minor": 0,
  "metadata": {
    "colab": {
      "name": "Actividad de Clase 3.ipynb",
      "provenance": [],
      "authorship_tag": "ABX9TyOyWxhj1icyZyZ6UtJ/xfE6"
    },
    "kernelspec": {
      "name": "python3",
      "display_name": "Python 3"
    },
    "language_info": {
      "name": "python"
    }
  },
  "cells": [
    {
      "cell_type": "markdown",
      "metadata": {
        "id": "k_cxGLMn3UVy"
      },
      "source": [
        "# Actividad de clase 3"
      ]
    },
    {
      "cell_type": "markdown",
      "metadata": {
        "id": "z0_X3DCw3Ngu"
      },
      "source": [
        "Escribe un algoritmo que verifique si una persona puede obtener su licencia de conducir. Para hacerlo, debe ser mayor de edad (18 años o más) y traer una identificación oficial. "
      ]
    },
    {
      "cell_type": "markdown",
      "metadata": {
        "id": "rWtQCQ5W3P_o"
      },
      "source": [
        "1. Solicitar identificación oficial\n",
        "2. Evaluar si tiene identificación válida\n",
        "3. Si no es válida, NO OBTIENE LICENCIA\n",
        "4. Si es válida, leer edad en identificación\n",
        "5. Evaluar si la edad es mayor o igual que 18\n",
        "6. si es falso, NO OBTIENE LICENCIA\n",
        "7. Si es verdadero, OBTIENE LICENCIA"
      ]
    },
    {
      "cell_type": "code",
      "metadata": {
        "colab": {
          "base_uri": "https://localhost:8080/"
        },
        "id": "HJP4UmO43XiA",
        "outputId": "e0bd5896-f78b-45c8-acdd-18189fbc2eac"
      },
      "source": [
        "# Problema 2\n",
        "\n",
        "def calcular_pendiente():\n",
        "  # calcula la pendiente de 2 puntos del plano cartesiano\n",
        "  x1 = int(input(\"Ingresa la coordenada x1: \"))\n",
        "  y1 = int(input(\"Ingresa la coordenada y1: \"))\n",
        "  x2 = int(input(\"Ingresa la coordenada x2: \"))\n",
        "  y2 = int(input(\"Ingresa la coordenada y2: \"))\n",
        "\n",
        "  m = (y2 - y1) / (x2 - x1)\n",
        "\n",
        "  print(\"La pendiente es:\", m)\n",
        "\n",
        "# calcular_pendiente()\n",
        "\n",
        "# Problema 3\n",
        "\n",
        "def calcular_precio():\n",
        "  # calcula el precio dando cantidad de bultos y precio por bulto\n",
        "  cantidad_bultos = int(input(\"Ingresa cantidad de bultos: \"))\n",
        "  precio = int(input(\"Ingresa el precio: \"))\n",
        "\n",
        "  subtotal = cantidad_bultos * precio\n",
        "  iva = subtotal * 0.16\n",
        "  total = subtotal + iva\n",
        "\n",
        "  print(\"El subtotal es\", subtotal)\n",
        "  print(\"El iva es\", iva)\n",
        "  print(\"El total es\", total)\n",
        "\n",
        "# calcular_precio()\n",
        "\n",
        "# PROBLEMA 3\n",
        "\n",
        "def calcular_precio():\n",
        "  # calcula el precio dando cantidad de bultos y precio por bulto\n",
        "  bultos = int(input(\"Ingresa cantidad de bultos: \"))\n",
        "  precio = float(input(\"Ingresa el precio por bulto: \"))\n",
        "\n",
        "  subtotal = bultos * precio \n",
        "  iva = subtotal * 0.16\n",
        "  total = subtotal + iva\n",
        "\n",
        "  print(\"El subtotal a pagar es:\", subtotal)\n",
        "  print(\"El iva a pagar es:\", iva)\n",
        "  print(\"El total a pagar es:\", total)\n",
        "\n",
        "\n",
        "# calcular_precio()\n",
        "\n",
        "# PROBLEMA 4\n",
        "\n",
        "def calcular_kilos():\n",
        "  # calcula los kilos a bajar en n meses dando peso inicial y peso final\n",
        "\n",
        "  peso_inicial = float(input(\"Ingresa el peso inicial: \"))\n",
        "  peso_final = float(input(\"Ingresa el peso final: \"))\n",
        "  meses = int(input(\"Ingresa la cantidad de meses: \"))\n",
        "\n",
        "  kilos = (peso_inicial - peso_final) / meses\n",
        "\n",
        "  print(\"Debes bajar\", kilos, \"kilos cada mes durante\", meses,\"meses ¡échale muchas ganas!\")\n",
        "\n",
        "# calcular_kilos()\n",
        "\n",
        "# PROBLEMA 5\n",
        "\n",
        "def calcular_promedio(m1, m2, m3, m4):\n",
        "  # calcula promedio de 4 materias\n",
        "\n",
        "  promedio = (m1 + m2 + m3 + m4) / 4\n",
        "\n",
        "  return promedio\n",
        "\n",
        "# promedio_materias = calcular_promedio(100, 90, 100, 90)\n",
        "\n",
        "# print(promedio_materias)\n",
        "\n",
        "# PROBLEMA 6\n",
        "\n",
        "import math\n",
        "\n",
        "def calcular_medidas(radio, altura):\n",
        "\n",
        "  diametro = 2 * radio\n",
        "  perimetro = 2 * math.pi * radio\n",
        "  area = math.pi * (radio ** 2)\n",
        "  volumen_esfera = (4 / 3) * math.pi * (radio ** 3)\n",
        "  volumen_cilindro = area * altura\n",
        "\n",
        "  return volumen_cilindro\n",
        "\n",
        "# calcular_medidas(3, 10)\n",
        "\n",
        "def area_triangulo(a, b, c):\n",
        "  # calcula el área de un triángulo\n",
        "  s = (a + b + c) / 2\n",
        " \n",
        "  area = math.sqrt(s * (s - a) * (s - b) * (s - c))\n",
        "\n",
        "  print(\"El área del triángulo es: \", area)\n",
        "\n",
        "# area_triangulo(5, 5, 5)\n",
        "\n",
        "# PROBLEMA 8\n",
        "\n",
        "def calcular_distancia():\n",
        "  # calcula la distancia de 2 puntos del plano cartesiano\n",
        "  x1 = int(input(\"Ingresa el valor x1: \"))\n",
        "  y1 = int(input(\"Ingresa el valor y1: \"))\n",
        "  x2 = int(input(\"Ingresa el valor x2: \"))\n",
        "  y2 = int(input(\"Ingresa el valor y2: \"))\n",
        "\n",
        "  dist = math.sqrt((x2 - x1) ** 2 + (y2 - y1) ** 2)\n",
        "\n",
        "  print(\"La distancia entre los puntos es:\", dist)\n",
        "\n",
        "calcular_distancia()"
      ],
      "execution_count": 1,
      "outputs": [
        {
          "output_type": "stream",
          "text": [
            "Ingresa el valor x1: 0\n",
            "Ingresa el valor y1: 0\n",
            "Ingresa el valor x2: 0\n",
            "Ingresa el valor y2: 5\n",
            "La distancia entre los puntos es: 5.0\n"
          ],
          "name": "stdout"
        }
      ]
    }
  ]
}