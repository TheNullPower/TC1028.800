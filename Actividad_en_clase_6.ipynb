{
  "nbformat": 4,
  "nbformat_minor": 0,
  "metadata": {
    "colab": {
      "name": "Actividad en clase 6.ipynb",
      "provenance": [],
      "authorship_tag": "ABX9TyNDCZgpT/5/SJky9IytCIoL"
    },
    "kernelspec": {
      "name": "python3",
      "display_name": "Python 3"
    }
  },
  "cells": [
    {
      "cell_type": "markdown",
      "metadata": {
        "id": "yqo5gGM0LjTH"
      },
      "source": [
        "Problema 1"
      ]
    },
    {
      "cell_type": "code",
      "metadata": {
        "id": "C9MiB1MrLi5n",
        "colab": {
          "base_uri": "https://localhost:8080/",
          "height": 136
        },
        "outputId": "cf028950-e71b-413b-cb89-43ce0aa575d5"
      },
      "source": [
        "cant_num = int(input(\"Ingresa la cantidad de números a promediar:\"))\n",
        "\n",
        "suma = 0\n",
        "\n",
        "for num in range(cant_num):\n",
        "  x = int(input(\"Ingresa un número:\"))\n",
        "\n",
        "  suma = suma + x\n",
        "\n",
        "  promedio = suma / cant_num\n",
        "\n",
        "print(\"El promedio es:\", promedio)"
      ],
      "execution_count": null,
      "outputs": [
        {
          "output_type": "stream",
          "text": [
            "Ingresa la cantidad de números a promediar:5\n",
            "Ingresa un número:1\n",
            "Ingresa un número:2\n",
            "Ingresa un número:3\n",
            "Ingresa un número:4\n",
            "Ingresa un número:5\n",
            "El promedio es: 3.0\n"
          ],
          "name": "stdout"
        }
      ]
    },
    {
      "cell_type": "markdown",
      "metadata": {
        "id": "NoixM-wyN11y"
      },
      "source": [
        "Problema 2"
      ]
    },
    {
      "cell_type": "code",
      "metadata": {
        "id": "0dLkG5-0Lg1p",
        "colab": {
          "base_uri": "https://localhost:8080/",
          "height": 34
        },
        "outputId": "dd91f1d5-4ed3-499b-9c42-befba51e3bfb"
      },
      "source": [
        "saldo = 100500\n",
        "\n",
        "interes = 0.08 # 8%\n",
        "\n",
        "for mes in range(12):\n",
        "\n",
        "  saldo = saldo + (saldo * interes / 12)\n",
        "  \n",
        "  if mes == 6:\n",
        "    saldo = saldo - 90500\n",
        "\n",
        "  if mes == 9:\n",
        "    saldo = saldo + 50000\n",
        "    \n",
        "print(\"El saldo final es $\", round(saldo))\n",
        "\n"
      ],
      "execution_count": null,
      "outputs": [
        {
          "output_type": "stream",
          "text": [
            "El saldo final es $ 65953\n"
          ],
          "name": "stdout"
        }
      ]
    },
    {
      "cell_type": "markdown",
      "metadata": {
        "id": "97NeV-4RSxCO"
      },
      "source": [
        "Problema 3"
      ]
    },
    {
      "cell_type": "code",
      "metadata": {
        "id": "am7vhznyQj8B",
        "colab": {
          "base_uri": "https://localhost:8080/",
          "height": 119
        },
        "outputId": "bd751ae5-8963-4155-fc9c-5a7d76d25991"
      },
      "source": [
        "palabra = \"Python\"\n",
        "\n",
        "x = \"\"\n",
        "\n",
        "for letra in palabra:\n",
        "  x = x + letra\n",
        "  print(x)"
      ],
      "execution_count": null,
      "outputs": [
        {
          "output_type": "stream",
          "text": [
            "P\n",
            "Py\n",
            "Pyt\n",
            "Pyth\n",
            "Pytho\n",
            "Python\n"
          ],
          "name": "stdout"
        }
      ]
    }
  ]
}