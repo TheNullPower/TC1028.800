{
  "nbformat": 4,
  "nbformat_minor": 0,
  "metadata": {
    "colab": {
      "name": "Actividad en clase 11.ipynb",
      "provenance": [],
      "authorship_tag": "ABX9TyMsU95i5mK72NC0M9wQGDOk"
    },
    "kernelspec": {
      "name": "python3",
      "display_name": "Python 3"
    },
    "language_info": {
      "name": "python"
    }
  },
  "cells": [
    {
      "cell_type": "markdown",
      "metadata": {
        "id": "-lpkrKGMjKrm"
      },
      "source": [
        "### Problema 1"
      ]
    },
    {
      "cell_type": "markdown",
      "metadata": {
        "id": "DTRjXLJcwfKL"
      },
      "source": [
        "Crea una lista que almancene tu matrícula, nombre y apellido y carrera. Imprime cada uno de los datos en una línea diferente."
      ]
    },
    {
      "cell_type": "code",
      "metadata": {
        "colab": {
          "base_uri": "https://localhost:8080/"
        },
        "id": "tdN9qP_7wg1u",
        "outputId": "5b34a6ac-f8a3-4105-a429-de09890d6968"
      },
      "source": [
        "# indice            0            1          2          3\n",
        "datos_alumno = [\"A01111531\", \"Germán\", \"Domínguez\", \"ITIC\"]\n",
        "\n",
        "print(datos_alumno[0])\n",
        "print(datos_alumno[1])\n",
        "print(datos_alumno[2])\n",
        "print(datos_alumno[3])"
      ],
      "execution_count": null,
      "outputs": [
        {
          "output_type": "stream",
          "name": "stdout",
          "text": [
            "A01111531\n",
            "Germán\n",
            "Domínguez\n",
            "ITIC\n"
          ]
        }
      ]
    },
    {
      "cell_type": "code",
      "metadata": {
        "colab": {
          "base_uri": "https://localhost:8080/"
        },
        "id": "pX5bCE7zxC8N",
        "outputId": "074d7f1a-07c3-406e-add8-93d581897537"
      },
      "source": [
        "type(datos_alumno)"
      ],
      "execution_count": null,
      "outputs": [
        {
          "output_type": "execute_result",
          "data": {
            "text/plain": [
              "list"
            ]
          },
          "metadata": {},
          "execution_count": 12
        }
      ]
    },
    {
      "cell_type": "markdown",
      "metadata": {
        "id": "UJcpFPPvyM2X"
      },
      "source": [
        "### Problema 2"
      ]
    },
    {
      "cell_type": "markdown",
      "metadata": {
        "id": "AN9iIVRYyPkx"
      },
      "source": [
        "Crea una lista con el nombre de 3 personas. Imprime cada elemento de la lista mediante un ciclo for."
      ]
    },
    {
      "cell_type": "code",
      "metadata": {
        "colab": {
          "base_uri": "https://localhost:8080/"
        },
        "id": "u9yNV53ExH6j",
        "outputId": "00c7d43d-92f6-4d67-a78d-02f6b9025413"
      },
      "source": [
        "nombres = [\"Lucy\", \"Gina\", \"Erika\"]\n",
        "\n",
        "for nombre in nombres:\n",
        "  print(nombre)"
      ],
      "execution_count": null,
      "outputs": [
        {
          "output_type": "stream",
          "name": "stdout",
          "text": [
            "Lucy\n",
            "Gina\n",
            "Erika\n"
          ]
        }
      ]
    },
    {
      "cell_type": "code",
      "metadata": {
        "colab": {
          "base_uri": "https://localhost:8080/"
        },
        "id": "qpO-yH2zym3g",
        "outputId": "bdf45fd3-6115-4d22-8093-9dcf071122df"
      },
      "source": [
        "print(nombres)"
      ],
      "execution_count": null,
      "outputs": [
        {
          "output_type": "stream",
          "name": "stdout",
          "text": [
            "['Lucy', 'Gina', 'Erika']\n"
          ]
        }
      ]
    },
    {
      "cell_type": "code",
      "metadata": {
        "colab": {
          "base_uri": "https://localhost:8080/"
        },
        "id": "jL_Hm0J4zIiw",
        "outputId": "36d9309e-3537-4a2b-c89b-ba058b3b8942"
      },
      "source": [
        "len(nombres)"
      ],
      "execution_count": null,
      "outputs": [
        {
          "output_type": "execute_result",
          "data": {
            "text/plain": [
              "3"
            ]
          },
          "metadata": {},
          "execution_count": 15
        }
      ]
    },
    {
      "cell_type": "code",
      "metadata": {
        "colab": {
          "base_uri": "https://localhost:8080/"
        },
        "id": "3GDjANsky1j4",
        "outputId": "53715fbe-5df6-474f-c9b8-660dbdf2a8b1"
      },
      "source": [
        "for num in range(len(nombres)):\n",
        "\n",
        "  print(nombres[num])\n"
      ],
      "execution_count": null,
      "outputs": [
        {
          "output_type": "stream",
          "name": "stdout",
          "text": [
            "Lucy\n",
            "Gina\n",
            "Erika\n"
          ]
        }
      ]
    },
    {
      "cell_type": "markdown",
      "metadata": {
        "id": "URxBOD1Wzw9G"
      },
      "source": [
        "### Problema 3"
      ]
    },
    {
      "cell_type": "markdown",
      "metadata": {
        "id": "R1kP5jBez0TV"
      },
      "source": [
        "Crea un programa donde el usuario pueda introducir mediante el teclado nombres 3 libros, los cuales deberás ir guardando en una lista. Al final, imprime la lista de libros."
      ]
    },
    {
      "cell_type": "code",
      "metadata": {
        "colab": {
          "base_uri": "https://localhost:8080/"
        },
        "id": "z1-0hUUhzTfm",
        "outputId": "2e2ddaf9-d255-4259-8418-8f71e949cbcf"
      },
      "source": [
        "lista_libros = []\n",
        "lista_libros2 = []\n",
        "for num in range(3):\n",
        "\n",
        "  libro = input(\"Ingresa el nombre del libro: \")\n",
        "\n",
        "  lista_libros.append(libro) # forma 1 de agregar libros\n",
        "  lista_libros2 = lista_libros2 + [libro] # forma 2 de agregar libros\n",
        "\n",
        "print(lista_libros)\n",
        "print(lista_libros2)\n"
      ],
      "execution_count": null,
      "outputs": [
        {
          "output_type": "stream",
          "name": "stdout",
          "text": [
            "Ingresa el nombre del libro: Mate\n",
            "Ingresa el nombre del libro: Física\n",
            "Ingresa el nombre del libro: Progra\n",
            "['Mate', 'Física', 'Progra']\n",
            "['Mate', 'Física', 'Progra']\n"
          ]
        }
      ]
    },
    {
      "cell_type": "markdown",
      "metadata": {
        "id": "RA6AXizB1jBs"
      },
      "source": [
        "### Problema 4"
      ]
    },
    {
      "cell_type": "markdown",
      "metadata": {
        "id": "OHA8lL701mB5"
      },
      "source": [
        "Crea una lista que simule las calificaciones de 10 actividades de un alumno. Supón que debido al excepcional desempeño del alumno, el profesor ha decidido aumentar 5 puntos. Tu programa deberá aumentar a cada calificación los 5 puntos (recordando que la calificación máxima es de 100 y no puede pasarse)."
      ]
    },
    {
      "cell_type": "code",
      "metadata": {
        "colab": {
          "base_uri": "https://localhost:8080/"
        },
        "id": "A7JMiZCi1mt6",
        "outputId": "d961746d-20ff-4087-d0c3-327dfd1c1814"
      },
      "source": [
        "calificaciones = [100, 94, 85, 95, 92, 98, 99, 100 ,90, 95]\n",
        "\n",
        "for num in range(len(calificaciones)):\n",
        "\n",
        "  if calificaciones[num] > 95:\n",
        "    calificaciones[num] = 100\n",
        "  else:\n",
        "    calificaciones[num] = calificaciones[num] + 5\n",
        "\n",
        "calificaciones\n"
      ],
      "execution_count": null,
      "outputs": [
        {
          "output_type": "execute_result",
          "data": {
            "text/plain": [
              "[100, 99, 90, 100, 97, 100, 100, 100, 95, 100]"
            ]
          },
          "metadata": {},
          "execution_count": 28
        }
      ]
    },
    {
      "cell_type": "markdown",
      "metadata": {
        "id": "KtoYhn614bFB"
      },
      "source": [
        "### Problema 5"
      ]
    },
    {
      "cell_type": "markdown",
      "metadata": {
        "id": "PcWKeJzm4dVJ"
      },
      "source": [
        "Escribe una función que convierta un número entero en lista, la función deberá recibir un número entero y regresar una lista con todos los dígitos del numero.\n",
        "\n",
        "Ejemplo\n",
        "\n",
        "Si el número estero es 575, la lista resultante sería [5,7,5]"
      ]
    },
    {
      "cell_type": "code",
      "metadata": {
        "colab": {
          "base_uri": "https://localhost:8080/"
        },
        "id": "wLmZHEd22TIX",
        "outputId": "4952c6f0-0c30-46bd-8849-8488f11706e9"
      },
      "source": [
        "def numero_lista(numero):\n",
        "\n",
        "  lista = []\n",
        "  string = str(numero)\n",
        "\n",
        "  for letra in string:\n",
        "    # print(letra)\n",
        "    lista.append(int(letra))\n",
        "  \n",
        "  print(lista)\n",
        "\n",
        "\n",
        "numero_lista(575) "
      ],
      "execution_count": null,
      "outputs": [
        {
          "output_type": "stream",
          "name": "stdout",
          "text": [
            "[5, 7, 5]\n"
          ]
        }
      ]
    }
  ]
}