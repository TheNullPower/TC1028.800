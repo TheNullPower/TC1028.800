{
  "nbformat": 4,
  "nbformat_minor": 0,
  "metadata": {
    "colab": {
      "name": "Actividad 12.ipynb",
      "provenance": [],
      "authorship_tag": "ABX9TyOEDRnctPuvwtm9C6bk8opN"
    },
    "kernelspec": {
      "name": "python3",
      "display_name": "Python 3"
    },
    "language_info": {
      "name": "python"
    }
  },
  "cells": [
    {
      "cell_type": "markdown",
      "metadata": {
        "id": "jpMcoiBRQuUF"
      },
      "source": [
        "# Actvidad 12"
      ]
    },
    {
      "cell_type": "markdown",
      "metadata": {
        "id": "AImVNdOMQxd7"
      },
      "source": [
        "### Problema 1"
      ]
    },
    {
      "cell_type": "markdown",
      "metadata": {
        "id": "sLr2DXP5Qz_-"
      },
      "source": [
        "Diseña y codifica un programa en Python en el cual el usuario ingrese la cantidad de elementos que va a ingresar a la lista; posteriormente, el programa debe leer cada uno de los elementos de la lista, uno por línea y se van agregando a la lista.\n",
        "\n",
        "Importante: El programa debe validar que el número de elementos a ingresar sea mayor que cero, sino debe volver a pedir el valor hasta que cumpla."
      ]
    },
    {
      "cell_type": "code",
      "metadata": {
        "colab": {
          "base_uri": "https://localhost:8080/"
        },
        "id": "Iumqweb2QrHb",
        "outputId": "17aa19f0-24ac-4a2c-ecb6-3d0d5caf19bc"
      },
      "source": [
        "while True:\n",
        "  elementos = int(input(\"Ingresa la cantidad de elementos a registrar: \"))\n",
        "\n",
        "  if elementos <= 0:\n",
        "    print(\"Error, ingresa un número mayor a cero\")\n",
        "    continue\n",
        "  else:\n",
        "    lista = []\n",
        "    # suma = 0 \n",
        "\n",
        "    for num in range(elementos):\n",
        "      dato = int(input(\"Ingresa el dato: \"))\n",
        "      lista.append(dato)\n",
        "      # suma = suma + dato\n",
        "      \n",
        "\n",
        "    for num in range(len(lista)):\n",
        "      print(\"Lista[\" + str(num) + \"] = \" + str(lista[num]))\n",
        "\n",
        "    ultimo = lista[-1]\n",
        "    suma = sum(lista)\n",
        "    promedio = suma / len(lista)\n",
        "\n",
        "    print(ultimo)\n",
        "    print(suma)\n",
        "    print(promedio)\n",
        "  \n",
        "  break"
      ],
      "execution_count": 10,
      "outputs": [
        {
          "output_type": "stream",
          "name": "stdout",
          "text": [
            "Ingresa la cantidad de elementos a registrar: 0\n",
            "Error, ingresa un número mayor a cero\n",
            "Ingresa la cantidad de elementos a registrar: -5\n",
            "Error, ingresa un número mayor a cero\n",
            "Ingresa la cantidad de elementos a registrar: 0\n",
            "Error, ingresa un número mayor a cero\n",
            "Ingresa la cantidad de elementos a registrar: 5\n",
            "Ingresa el dato: 1\n",
            "Ingresa el dato: 2\n",
            "Ingresa el dato: 3\n",
            "Ingresa el dato: 4\n",
            "Ingresa el dato: 5\n",
            "Lista[0] = 1\n",
            "Lista[1] = 2\n",
            "Lista[2] = 3\n",
            "Lista[3] = 4\n",
            "Lista[4] = 5\n",
            "5\n",
            "15\n",
            "3.0\n"
          ]
        }
      ]
    },
    {
      "cell_type": "markdown",
      "metadata": {
        "id": "yf5bzdSkYTVi"
      },
      "source": [
        "### Problema 2"
      ]
    },
    {
      "cell_type": "markdown",
      "metadata": {
        "id": "QyGxVjsLYUyp"
      },
      "source": [
        "Escribe un programa que reciba del usuario una lista y devuelva otra con los elementos de la lista original, pero sin elementos duplicados.\n",
        "\n",
        " \n",
        "\n",
        "Entradas\n",
        "\n",
        "Se recibe un número entero positivo correspondiente al número de elementos que el usuario ingresará.\n",
        "\n",
        "Se reciben uno a uno y por renglón, los elementos de la lista (strings y de acuerdo al número recibido anteriormente).\n",
        "\n",
        "Salidas\n",
        "\n",
        "Si el valor correspondiente al número de elementos que tendrá la lista es 0 o negativo, se deberá mandar el mensaje “Error”. Si el valor recibido es mayor a 0, se despliega la lista original (después de haber recibido los datos). Posteriormente, se despliega la lista, pero sin duplicados."
      ]
    },
    {
      "cell_type": "code",
      "metadata": {
        "colab": {
          "base_uri": "https://localhost:8080/"
        },
        "id": "jS8fH8N7YVp9",
        "outputId": "3a929b7a-71a8-441f-99fe-e1bb587f0f23"
      },
      "source": [
        "elementos = int(input(\"Ingresa la cantidad de elementos de la lista: \"))\n",
        "lista = []\n",
        "\n",
        "if elementos <= 0:\n",
        "  print(\"Error\")\n",
        "else:\n",
        "  for num in range(elementos):\n",
        "    dato = input(\"Ingresa el dato: \")\n",
        "    lista.append(dato)\n",
        "\n",
        "lista_nueva = []\n",
        "\n",
        "for nombre in lista: # opción 1 para eliminar repetidos\n",
        "  if nombre not in lista_nueva:\n",
        "    lista_nueva.append(nombre)\n",
        "\n",
        "print(lista)\n",
        "print(lista_nueva)\n",
        "print(list(set(lista))) # opción 2 para eliminar repetidos, pero se pierde el orden de los elementos\n",
        "print(list(dict.fromkeys(lista))) # opción 3 para eliminar repetidos\n"
      ],
      "execution_count": 23,
      "outputs": [
        {
          "output_type": "stream",
          "name": "stdout",
          "text": [
            "Ingresa la cantidad de elementos de la lista: 4\n",
            "Ingresa el dato: Lucy\n",
            "Ingresa el dato: Gina\n",
            "Ingresa el dato: Lucy\n",
            "Ingresa el dato: Erika\n",
            "['Lucy', 'Gina', 'Lucy', 'Erika']\n",
            "['Lucy', 'Gina', 'Erika']\n",
            "['Erika', 'Gina', 'Lucy']\n",
            "['Lucy', 'Gina', 'Erika']\n"
          ]
        }
      ]
    },
    {
      "cell_type": "markdown",
      "metadata": {
        "id": "-PNitsNTdFAU"
      },
      "source": [
        "### Problema 3"
      ]
    },
    {
      "cell_type": "markdown",
      "metadata": {
        "id": "2F8VdqCEdHMn"
      },
      "source": [
        "Desarrolla un programa que permitirá obtener, a partir de una lista que recibirá del usuario, crear y desplegar una sublista con valores pares y otra sublista con valores impares.\n",
        "\n",
        " \n",
        "\n",
        "Entrada\n",
        "\n",
        "Cero o más valores enteros, uno en cada renglón. Finaliza la captura con un *\n",
        "\n",
        "Salida\n",
        "\n",
        "Se muestra la salida que deberá mostrar tu programa, tal como se ilustra a continuación:\n",
        "\n",
        "PARES\n",
        "\n",
        "[2, 4, 8]\n",
        "\n",
        "IMPARES\n",
        "\n",
        "[1, 5]\n",
        "\n",
        "(Es decir, la palabra PARES en mayúscula en un renglón y, posteriormente, el despliegue de la lista de pares y, de manera similar, los impares, tal como se muestra en el ejemplo) Respeta el orden."
      ]
    },
    {
      "cell_type": "code",
      "metadata": {
        "colab": {
          "base_uri": "https://localhost:8080/"
        },
        "id": "KTGepmbLbrHS",
        "outputId": "049a97f2-e496-4fab-d244-a9f18efb309b"
      },
      "source": [
        "dato = input(\"Ingresa un dato: \")\n",
        "lista_par = []\n",
        "lista_impar = []\n",
        "\n",
        "while dato != \"*\":\n",
        "\n",
        "  dato = int(dato)\n",
        "\n",
        "  if dato % 2 == 0:\n",
        "    lista_par.append(dato)\n",
        "\n",
        "  else:\n",
        "    lista_impar.append(dato)\n",
        "  \n",
        "  dato = input(\"Ingresa un dato: \")\n",
        "\n",
        "print(\"PARES\")\n",
        "print(lista_par)\n",
        "print(\"IMPARES\")\n",
        "print(lista_impar)\n",
        "                "
      ],
      "execution_count": 27,
      "outputs": [
        {
          "output_type": "stream",
          "name": "stdout",
          "text": [
            "Ingresa un dato: 2\n",
            "Ingresa un dato: 4\n",
            "Ingresa un dato: 8\n",
            "Ingresa un dato: 1\n",
            "Ingresa un dato: 5\n",
            "Ingresa un dato: *\n",
            "PARES\n",
            "[2, 4, 8]\n",
            "IMPARES\n",
            "[1, 5]\n"
          ]
        }
      ]
    }
  ]
}
