{
  "nbformat": 4,
  "nbformat_minor": 0,
  "metadata": {
    "colab": {
      "name": "Actividad en clase 7.ipynb",
      "provenance": [],
      "authorship_tag": "ABX9TyOBclsuqA1oul3RKqd4q0od"
    },
    "kernelspec": {
      "name": "python3",
      "display_name": "Python 3"
    },
    "language_info": {
      "name": "python"
    }
  },
  "cells": [
    {
      "cell_type": "markdown",
      "metadata": {
        "id": "MfLLyn7ykG7q"
      },
      "source": [
        "## Actividad en clase 7: Construcción de programas que utilizan repeciciones - FOR"
      ]
    },
    {
      "cell_type": "markdown",
      "metadata": {
        "id": "XrQuvwHHkJlv"
      },
      "source": [
        "### Explicación del ciclo for y la función range( )"
      ]
    },
    {
      "cell_type": "code",
      "metadata": {
        "colab": {
          "base_uri": "https://localhost:8080/"
        },
        "id": "RFkD02gkE5IO",
        "outputId": "40727df4-ea2f-4e28-809f-0e2aa4464093"
      },
      "source": [
        "for numero in range(5):\n",
        "  print(numero)"
      ],
      "execution_count": null,
      "outputs": [
        {
          "output_type": "stream",
          "name": "stdout",
          "text": [
            "0\n",
            "1\n",
            "2\n",
            "3\n",
            "4\n"
          ]
        }
      ]
    },
    {
      "cell_type": "code",
      "metadata": {
        "colab": {
          "base_uri": "https://localhost:8080/"
        },
        "id": "xrVq4oJgk4tb",
        "outputId": "b2b12113-f8ed-48b8-fca1-3f69e819ebd6"
      },
      "source": [
        "msj = \"ja\"\n",
        "\n",
        "for num in range(5):\n",
        "  print(msj * 5)"
      ],
      "execution_count": null,
      "outputs": [
        {
          "output_type": "stream",
          "name": "stdout",
          "text": [
            "jajajajaja\n",
            "jajajajaja\n",
            "jajajajaja\n",
            "jajajajaja\n",
            "jajajajaja\n"
          ]
        }
      ]
    },
    {
      "cell_type": "code",
      "metadata": {
        "colab": {
          "base_uri": "https://localhost:8080/"
        },
        "id": "6GG7tfzjlTr9",
        "outputId": "88c45ea6-23e9-4713-c4e0-c278bc1eccfa"
      },
      "source": [
        "print(msj * 5)\n",
        "print(msj * 5)\n",
        "print(msj * 5)\n",
        "print(msj * 5)\n",
        "print(msj * 5)"
      ],
      "execution_count": null,
      "outputs": [
        {
          "output_type": "stream",
          "name": "stdout",
          "text": [
            "jajajajaja\n",
            "jajajajaja\n",
            "jajajajaja\n",
            "jajajajaja\n",
            "jajajajaja\n"
          ]
        }
      ]
    },
    {
      "cell_type": "markdown",
      "metadata": {
        "id": "9dIHMCWulgTm"
      },
      "source": [
        "### Problema 1"
      ]
    },
    {
      "cell_type": "markdown",
      "metadata": {
        "id": "khPxUKOjlnDY"
      },
      "source": [
        "Muestra una serie de números que empiezan en a y se vayan incrementando de 5 en 5 hasta llegar a b, donde a y b son dos número capturados por el usuario; asume que a siempre es menor que b \n",
        "\n",
        "Nota que a y b no necesariamente son múltiplos de 5, y que debe mostrar todos los números que sean menor o igual a b."
      ]
    },
    {
      "cell_type": "code",
      "metadata": {
        "colab": {
          "base_uri": "https://localhost:8080/"
        },
        "id": "oisESGJjlUv2",
        "outputId": "cac0b44f-3e23-4fa0-8946-727696eba228"
      },
      "source": [
        "a = int(input(\"Ingresa el valor inicial: \"))\n",
        "b = int(input(\"Ingresa el valor final: \"))\n",
        "\n",
        "for numero in range(a, b + 1, 5):\n",
        "  print(numero)"
      ],
      "execution_count": null,
      "outputs": [
        {
          "output_type": "stream",
          "name": "stdout",
          "text": [
            "Ingresa el valor inicial: 2\n",
            "Ingresa el valor final: 20\n",
            "2\n",
            "7\n",
            "12\n",
            "17\n"
          ]
        }
      ]
    },
    {
      "cell_type": "markdown",
      "metadata": {
        "id": "BcLVf8KTnUPq"
      },
      "source": [
        "### Problema 2"
      ]
    },
    {
      "cell_type": "markdown",
      "metadata": {
        "id": "2iOXHSsInWUl"
      },
      "source": [
        "Muestra el valor de la sumatoria de todos los números desde el 1 hasta n, donde n es un número entero capturado por el usuario.\n",
        "\n",
        "Por ejemplo:\n",
        "Si n = 10, deberás de mostrar:\n",
        "\n",
        "suma = 55"
      ]
    },
    {
      "cell_type": "code",
      "metadata": {
        "colab": {
          "base_uri": "https://localhost:8080/"
        },
        "id": "ZdWtWSjTnX79",
        "outputId": "4df09e54-3fb9-4f0c-fb07-5fbea3b01119"
      },
      "source": [
        "n = int(input(\"Ingresa la cantidad de números a sumar: \"))\n",
        "suma = 0\n",
        "\n",
        "for numero in range(n + 1):\n",
        "  \n",
        "  suma = suma + numero\n",
        "\n",
        "print(\"El valor de la suma es\", suma)"
      ],
      "execution_count": null,
      "outputs": [
        {
          "output_type": "stream",
          "name": "stdout",
          "text": [
            "Ingresa la cantidad de números a sumar: 10\n",
            "El valor de la suma es 55\n"
          ]
        }
      ]
    },
    {
      "cell_type": "markdown",
      "metadata": {
        "id": "tYVpTErYpD3V"
      },
      "source": [
        "### Problema 3"
      ]
    },
    {
      "cell_type": "markdown",
      "metadata": {
        "id": "ITnF8xMtpFxB"
      },
      "source": [
        "Calcula el factorial de un número N, donde N es un número que el usuario captura.\n",
        "\n",
        "El factorial de un número N es: factorial=1×2×3×4×...×N\n",
        "\n",
        "Asume que los valores capturados por el usuario son mayores a 0"
      ]
    },
    {
      "cell_type": "code",
      "metadata": {
        "colab": {
          "base_uri": "https://localhost:8080/"
        },
        "id": "a_fcl2FepH5n",
        "outputId": "162088ac-e4f7-4f31-dd08-318f5db27d84"
      },
      "source": [
        "N = int(input(\"Ingresa el número para calcular su factorial: \"))\n",
        "\n",
        "factorial = 1\n",
        "for numero in range(1, N + 1):\n",
        "\n",
        "  factorial = factorial * numero\n",
        "\n",
        "print(\"El factorial de\", N, \"es\", factorial)"
      ],
      "execution_count": null,
      "outputs": [
        {
          "output_type": "stream",
          "name": "stdout",
          "text": [
            "Ingresa el número para calcular su factorial: 5\n",
            "El factorial de 5 es 120\n"
          ]
        }
      ]
    },
    {
      "cell_type": "markdown",
      "metadata": {
        "id": "wziptQ7Dq-iP"
      },
      "source": [
        "### Problema 4"
      ]
    },
    {
      "cell_type": "markdown",
      "metadata": {
        "id": "P4PmuXWzrAEi"
      },
      "source": [
        "Muestra en pantalla n caracteres que alternan entre # y %, donde n es un número entero capturado por el usuario.\n",
        "Los caracteres se deben mostrar uno en cada renglón.\n",
        "Observa que el primer caracter que se debe mostrar siempre es #\n",
        "\n",
        "Por ejemplo:\n",
        "Si n = 5, deberás de mostrar:\n",
        "\n",
        "#\n",
        "\n",
        "\n",
        "%\n",
        "\n",
        "\n",
        "#\n",
        "\n",
        "\n",
        "%\n",
        "\n",
        "\n",
        "#"
      ]
    },
    {
      "cell_type": "code",
      "metadata": {
        "colab": {
          "base_uri": "https://localhost:8080/"
        },
        "id": "YNlv_Y7arA91",
        "outputId": "3c50d3f6-7504-4a8c-d5f2-e42d3432dd84"
      },
      "source": [
        "n = int(input(\"Ingresa la cantidad de simbolos a repetir: \"))\n",
        "\n",
        "for numero in range(n):\n",
        "  \n",
        "  if numero % 2 == 0:\n",
        "    print(\"#\")\n",
        "  \n",
        "  else:\n",
        "    print(\"%\")"
      ],
      "execution_count": null,
      "outputs": [
        {
          "output_type": "stream",
          "name": "stdout",
          "text": [
            "Ingresa la cantidad de simbolos a repetir: 5\n",
            "#\n",
            "%\n",
            "#\n",
            "%\n",
            "#\n"
          ]
        }
      ]
    },
    {
      "cell_type": "markdown",
      "metadata": {
        "id": "AjNDmM-0tSBh"
      },
      "source": [
        "### Problema 5"
      ]
    },
    {
      "cell_type": "markdown",
      "metadata": {
        "id": "vYJrux7XtUnS"
      },
      "source": [
        "Escribe un programa que lea un número entero positivo n y muestre una lista de números que empieza en 1 e incrementa de uno en uno hasta llegar a n y después decrementa de uno en uno hasta llegar a 1:\n",
        "1, 2, ... n, n-1, n-2 ... 1\n",
        "\n",
        "Por ejemplo:\n",
        "\n",
        "Si n = 5 el programa debe mostrar:\n",
        "1, 2, 3, 4, 5, 4, 3, 2, 1\n",
        "\n",
        "Nota: Los números deben estar separados por una coma y después un espacio. Observa que después del último número no hay coma."
      ]
    },
    {
      "cell_type": "code",
      "metadata": {
        "colab": {
          "base_uri": "https://localhost:8080/"
        },
        "id": "LQy7oAjUtVii",
        "outputId": "0b2e826c-71e6-4a4a-fb8a-f61bf8a1bd98"
      },
      "source": [
        "n = int(input(\"Ingresa el número máximo de la lista: \"))\n",
        "string = \"\"\n",
        "\n",
        "for num in range(1, n + 1):\n",
        "  # print(num)\n",
        "  string = string + str(num) + \", \"\n",
        "\n",
        "for num2 in range(n - 1, 0, -1):\n",
        "  # print(num2)\n",
        "\n",
        "  if num2 == 1: # eliminar la coma del último 1\n",
        "    string = string + str(num2) \n",
        "  else:\n",
        "    string = string + str(num2) + \", \"\n",
        "\n",
        "print(string)"
      ],
      "execution_count": null,
      "outputs": [
        {
          "output_type": "stream",
          "name": "stdout",
          "text": [
            "Ingresa el número máximo de la lista: 5\n",
            "1, 2, 3, 4, 5, 4, 3, 2, 1\n"
          ]
        }
      ]
    },
    {
      "cell_type": "code",
      "metadata": {
        "id": "uXMZQoKRtyiD"
      },
      "source": [
        ""
      ],
      "execution_count": null,
      "outputs": []
    }
  ]
}