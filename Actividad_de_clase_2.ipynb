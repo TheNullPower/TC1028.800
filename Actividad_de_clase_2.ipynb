{
  "nbformat": 4,
  "nbformat_minor": 0,
  "metadata": {
    "colab": {
      "name": "Actividad de clase 2.ipynb",
      "provenance": [],
      "toc_visible": true,
      "authorship_tag": "ABX9TyNnXpQAcq+XCDUrBnG8mQta"
    },
    "kernelspec": {
      "name": "python3",
      "display_name": "Python 3"
    },
    "language_info": {
      "name": "python"
    }
  },
  "cells": [
    {
      "cell_type": "markdown",
      "metadata": {
        "id": "e4Ttx-FALIAA"
      },
      "source": [
        "# Actividad 2: Elementos básicos de Python"
      ]
    },
    {
      "cell_type": "markdown",
      "metadata": {
        "id": "gChC4dhpLk-q"
      },
      "source": [
        "### Expresiones y operaciones"
      ]
    },
    {
      "cell_type": "code",
      "metadata": {
        "colab": {
          "base_uri": "https://localhost:8080/"
        },
        "id": "1FMhqj4_Km3G",
        "outputId": "229521de-d716-4c76-b621-ae051ed3170c"
      },
      "source": [
        "4"
      ],
      "execution_count": null,
      "outputs": [
        {
          "output_type": "execute_result",
          "data": {
            "text/plain": [
              "4"
            ]
          },
          "metadata": {
            "tags": []
          },
          "execution_count": 3
        }
      ]
    },
    {
      "cell_type": "code",
      "metadata": {
        "colab": {
          "base_uri": "https://localhost:8080/"
        },
        "id": "IZiNEbU3LGrm",
        "outputId": "161d6aba-c852-4b0d-fe06-30599e3e51a8"
      },
      "source": [
        "4 + 4"
      ],
      "execution_count": null,
      "outputs": [
        {
          "output_type": "execute_result",
          "data": {
            "text/plain": [
              "8"
            ]
          },
          "metadata": {
            "tags": []
          },
          "execution_count": 2
        }
      ]
    },
    {
      "cell_type": "code",
      "metadata": {
        "colab": {
          "base_uri": "https://localhost:8080/",
          "height": 35
        },
        "id": "dtEUibURLHEe",
        "outputId": "034f97d9-af71-449f-c318-066b9b85d418"
      },
      "source": [
        "\"Hola\""
      ],
      "execution_count": null,
      "outputs": [
        {
          "output_type": "execute_result",
          "data": {
            "application/vnd.google.colaboratory.intrinsic+json": {
              "type": "string"
            },
            "text/plain": [
              "'Hola'"
            ]
          },
          "metadata": {
            "tags": []
          },
          "execution_count": 4
        }
      ]
    },
    {
      "cell_type": "code",
      "metadata": {
        "colab": {
          "base_uri": "https://localhost:8080/",
          "height": 35
        },
        "id": "3S2kXi2RLHG9",
        "outputId": "9b0539df-84dd-4f6b-e3b3-64e40faa88ed"
      },
      "source": [
        "\"ja\" * 5"
      ],
      "execution_count": null,
      "outputs": [
        {
          "output_type": "execute_result",
          "data": {
            "application/vnd.google.colaboratory.intrinsic+json": {
              "type": "string"
            },
            "text/plain": [
              "'jajajajaja'"
            ]
          },
          "metadata": {
            "tags": []
          },
          "execution_count": 5
        }
      ]
    },
    {
      "cell_type": "code",
      "metadata": {
        "colab": {
          "base_uri": "https://localhost:8080/"
        },
        "id": "k_Mb7AO0LHJo",
        "outputId": "63eb323f-f4c2-4f19-dad9-510ece854d49"
      },
      "source": [
        "2 ** 3"
      ],
      "execution_count": null,
      "outputs": [
        {
          "output_type": "execute_result",
          "data": {
            "text/plain": [
              "8"
            ]
          },
          "metadata": {
            "tags": []
          },
          "execution_count": 6
        }
      ]
    },
    {
      "cell_type": "markdown",
      "metadata": {
        "id": "cLi3ND2TLICf"
      },
      "source": [
        "### Tipos de datos"
      ]
    },
    {
      "cell_type": "code",
      "metadata": {
        "colab": {
          "base_uri": "https://localhost:8080/"
        },
        "id": "PZdZhkTSMvYS",
        "outputId": "a5c58b67-b866-476e-ebc7-c4f37322db38"
      },
      "source": [
        "edad = 18\n",
        "edad"
      ],
      "execution_count": null,
      "outputs": [
        {
          "output_type": "execute_result",
          "data": {
            "text/plain": [
              "18"
            ]
          },
          "metadata": {
            "tags": []
          },
          "execution_count": 8
        }
      ]
    },
    {
      "cell_type": "code",
      "metadata": {
        "colab": {
          "base_uri": "https://localhost:8080/"
        },
        "id": "WbQYjH53M-Ns",
        "outputId": "14588d8b-f4f0-47fd-bf8e-3a4bbc8b685b"
      },
      "source": [
        "type(edad)"
      ],
      "execution_count": null,
      "outputs": [
        {
          "output_type": "execute_result",
          "data": {
            "text/plain": [
              "int"
            ]
          },
          "metadata": {
            "tags": []
          },
          "execution_count": 9
        }
      ]
    },
    {
      "cell_type": "code",
      "metadata": {
        "colab": {
          "base_uri": "https://localhost:8080/"
        },
        "id": "7LBJXwZ8NEt4",
        "outputId": "0de826bc-b5c9-4da0-b8f0-f597cf53e921"
      },
      "source": [
        "dolar = 19.25\n",
        "type(dolar)"
      ],
      "execution_count": null,
      "outputs": [
        {
          "output_type": "execute_result",
          "data": {
            "text/plain": [
              "float"
            ]
          },
          "metadata": {
            "tags": []
          },
          "execution_count": 10
        }
      ]
    },
    {
      "cell_type": "code",
      "metadata": {
        "colab": {
          "base_uri": "https://localhost:8080/"
        },
        "id": "CIqeLJ_VNQS6",
        "outputId": "3afc96b2-865e-4087-d844-29c00036a983"
      },
      "source": [
        "msj = \"hola\"\n",
        "type(msj)"
      ],
      "execution_count": null,
      "outputs": [
        {
          "output_type": "execute_result",
          "data": {
            "text/plain": [
              "str"
            ]
          },
          "metadata": {
            "tags": []
          },
          "execution_count": 12
        }
      ]
    },
    {
      "cell_type": "markdown",
      "metadata": {
        "id": "38REAa8KNqqg"
      },
      "source": [
        "### Estatuto de asignación"
      ]
    },
    {
      "cell_type": "code",
      "metadata": {
        "colab": {
          "base_uri": "https://localhost:8080/"
        },
        "id": "1j_q77fRNfT9",
        "outputId": "7bcf5ffd-2bb7-4c66-ecb2-c28ca7c1ebcd"
      },
      "source": [
        "a = 10\n",
        "b = 5\n",
        "a = b\n",
        "a"
      ],
      "execution_count": null,
      "outputs": [
        {
          "output_type": "execute_result",
          "data": {
            "text/plain": [
              "5"
            ]
          },
          "metadata": {
            "tags": []
          },
          "execution_count": 13
        }
      ]
    },
    {
      "cell_type": "code",
      "metadata": {
        "colab": {
          "base_uri": "https://localhost:8080/"
        },
        "id": "ON1MkSuaN8cb",
        "outputId": "d9cd12e5-2ebf-4237-ace5-6f1b29e0c33b"
      },
      "source": [
        "a = 10\n",
        "a = a + 5\n",
        "a"
      ],
      "execution_count": null,
      "outputs": [
        {
          "output_type": "execute_result",
          "data": {
            "text/plain": [
              "15"
            ]
          },
          "metadata": {
            "tags": []
          },
          "execution_count": 14
        }
      ]
    },
    {
      "cell_type": "code",
      "metadata": {
        "colab": {
          "base_uri": "https://localhost:8080/"
        },
        "id": "M4iOAojZOHJA",
        "outputId": "c0ee4e83-69f4-4a35-bd39-c900da64d260"
      },
      "source": [
        "a = 10\n",
        "a += 5\n",
        "a"
      ],
      "execution_count": null,
      "outputs": [
        {
          "output_type": "execute_result",
          "data": {
            "text/plain": [
              "15"
            ]
          },
          "metadata": {
            "tags": []
          },
          "execution_count": 15
        }
      ]
    },
    {
      "cell_type": "markdown",
      "metadata": {
        "id": "zfUUUNRxOTqb"
      },
      "source": [
        "### Comentarios"
      ]
    },
    {
      "cell_type": "code",
      "metadata": {
        "id": "PHPl_KiHOW2S"
      },
      "source": [
        "# esto es un comentario"
      ],
      "execution_count": null,
      "outputs": []
    },
    {
      "cell_type": "code",
      "metadata": {
        "colab": {
          "base_uri": "https://localhost:8080/",
          "height": 35
        },
        "id": "8PwjQlyaOZYD",
        "outputId": "d9eece26-7a8d-4f73-aaae-b45f03ba9741"
      },
      "source": [
        "\"\"\"Esto es un comentario\"\"\""
      ],
      "execution_count": null,
      "outputs": [
        {
          "output_type": "execute_result",
          "data": {
            "application/vnd.google.colaboratory.intrinsic+json": {
              "type": "string"
            },
            "text/plain": [
              "'Esto es un comentario'"
            ]
          },
          "metadata": {
            "tags": []
          },
          "execution_count": 17
        }
      ]
    },
    {
      "cell_type": "markdown",
      "metadata": {
        "id": "fRyE-4U3d6mG"
      },
      "source": [
        "### Mostrar un mensaje en pantalla con print()"
      ]
    },
    {
      "cell_type": "code",
      "metadata": {
        "colab": {
          "base_uri": "https://localhost:8080/"
        },
        "id": "zwKq9Cg6d_JM",
        "outputId": "08af8cae-88c3-40ee-e405-d36921a9ef15"
      },
      "source": [
        "msj = \"Hola mundo\"\n",
        "print(msj)"
      ],
      "execution_count": null,
      "outputs": [
        {
          "output_type": "stream",
          "text": [
            "Hola mundo\n"
          ],
          "name": "stdout"
        }
      ]
    },
    {
      "cell_type": "code",
      "metadata": {
        "id": "76WKy_A8O0uY",
        "colab": {
          "base_uri": "https://localhost:8080/"
        },
        "outputId": "47a36d20-3c4a-40fb-ce23-f98ea717b248"
      },
      "source": [
        "print(\"hola mundo\")"
      ],
      "execution_count": null,
      "outputs": [
        {
          "output_type": "stream",
          "text": [
            "hola mundo\n"
          ],
          "name": "stdout"
        }
      ]
    },
    {
      "cell_type": "code",
      "metadata": {
        "colab": {
          "base_uri": "https://localhost:8080/"
        },
        "id": "v2p4r0VTeMMg",
        "outputId": "c0e09546-5c74-48e1-8de6-cc426fe27a5d"
      },
      "source": [
        "print(2 + 4)"
      ],
      "execution_count": null,
      "outputs": [
        {
          "output_type": "stream",
          "text": [
            "6\n"
          ],
          "name": "stdout"
        }
      ]
    },
    {
      "cell_type": "code",
      "metadata": {
        "colab": {
          "base_uri": "https://localhost:8080/"
        },
        "id": "cmkEtK6Hepso",
        "outputId": "2fb7f209-2943-42c9-8b47-04783f99e64d"
      },
      "source": [
        "nombre = \"Germán\"\n",
        "print(\"hola\", nombre)"
      ],
      "execution_count": null,
      "outputs": [
        {
          "output_type": "stream",
          "text": [
            "hola Germán\n"
          ],
          "name": "stdout"
        }
      ]
    },
    {
      "cell_type": "markdown",
      "metadata": {
        "id": "F_SzSACfe6Q2"
      },
      "source": [
        "### Leer un dato del teclado con input()\n",
        "\n"
      ]
    },
    {
      "cell_type": "code",
      "metadata": {
        "colab": {
          "base_uri": "https://localhost:8080/"
        },
        "id": "6jwh5DY_fA7D",
        "outputId": "3182e88b-3f0c-4557-bc0f-18978142c568"
      },
      "source": [
        "# esto es un comentario\n",
        "\n",
        "edad = input()\n"
      ],
      "execution_count": null,
      "outputs": [
        {
          "output_type": "stream",
          "text": [
            "18\n"
          ],
          "name": "stdout"
        }
      ]
    },
    {
      "cell_type": "code",
      "metadata": {
        "colab": {
          "base_uri": "https://localhost:8080/"
        },
        "id": "DcNGNo5be2S4",
        "outputId": "f3a5961b-a22b-4366-c465-eb9dda9f3879"
      },
      "source": [
        "print(edad)"
      ],
      "execution_count": null,
      "outputs": [
        {
          "output_type": "stream",
          "text": [
            "18\n"
          ],
          "name": "stdout"
        }
      ]
    },
    {
      "cell_type": "code",
      "metadata": {
        "colab": {
          "base_uri": "https://localhost:8080/"
        },
        "id": "AtwTaNmsfos6",
        "outputId": "7de11d0a-9c72-4587-9aa6-7d9fe38fa0c3"
      },
      "source": [
        "edad = input(\"Ingresa tu edad: \")"
      ],
      "execution_count": null,
      "outputs": [
        {
          "output_type": "stream",
          "text": [
            "Ingresa tu edad: 18\n"
          ],
          "name": "stdout"
        }
      ]
    },
    {
      "cell_type": "code",
      "metadata": {
        "colab": {
          "base_uri": "https://localhost:8080/"
        },
        "id": "ehief3auf6H3",
        "outputId": "1feb8ce5-5c7f-46d0-a18b-168593bb446c"
      },
      "source": [
        "print(\"Ingresa tu edad: \")\n",
        "edad = input()"
      ],
      "execution_count": null,
      "outputs": [
        {
          "output_type": "stream",
          "text": [
            "Ingresa tu edad: \n",
            "18\n"
          ],
          "name": "stdout"
        }
      ]
    },
    {
      "cell_type": "markdown",
      "metadata": {
        "id": "_FMZP-vHgwg3"
      },
      "source": [
        "### Convertir tipos de datos"
      ]
    },
    {
      "cell_type": "code",
      "metadata": {
        "colab": {
          "base_uri": "https://localhost:8080/"
        },
        "id": "fYtNqysYgUvh",
        "outputId": "aac84273-b84a-4373-cba7-f292f57229a6"
      },
      "source": [
        "edad_nueva = int(edad) - 5\n",
        "print(edad_nueva)"
      ],
      "execution_count": null,
      "outputs": [
        {
          "output_type": "stream",
          "text": [
            "13\n"
          ],
          "name": "stdout"
        }
      ]
    },
    {
      "cell_type": "code",
      "metadata": {
        "id": "DmRlZL2SgtYN"
      },
      "source": [
        "edad_n = float(edad_nueva)"
      ],
      "execution_count": null,
      "outputs": []
    },
    {
      "cell_type": "code",
      "metadata": {
        "colab": {
          "base_uri": "https://localhost:8080/",
          "height": 35
        },
        "id": "7uOhzUHXhGIt",
        "outputId": "db1b0691-bded-4e3b-9039-9c66bfd203f9"
      },
      "source": [
        "str(edad_n)"
      ],
      "execution_count": null,
      "outputs": [
        {
          "output_type": "execute_result",
          "data": {
            "application/vnd.google.colaboratory.intrinsic+json": {
              "type": "string"
            },
            "text/plain": [
              "'13.0'"
            ]
          },
          "metadata": {
            "tags": []
          },
          "execution_count": 16
        }
      ]
    },
    {
      "cell_type": "markdown",
      "metadata": {
        "id": "6718ptQLhaUz"
      },
      "source": [
        "### Librería math"
      ]
    },
    {
      "cell_type": "code",
      "metadata": {
        "colab": {
          "base_uri": "https://localhost:8080/"
        },
        "id": "jrggJDP3hdOd",
        "outputId": "b356885e-49aa-4f0a-a7f0-f649f3a6f632"
      },
      "source": [
        "import math\n",
        "\n",
        "math.sqrt(9)"
      ],
      "execution_count": null,
      "outputs": [
        {
          "output_type": "execute_result",
          "data": {
            "text/plain": [
              "3.0"
            ]
          },
          "metadata": {
            "tags": []
          },
          "execution_count": 18
        }
      ]
    },
    {
      "cell_type": "code",
      "metadata": {
        "colab": {
          "base_uri": "https://localhost:8080/"
        },
        "id": "kFf0ZIwkh1-3",
        "outputId": "c0216f73-7537-4b2c-81a8-0055aa4fd399"
      },
      "source": [
        "math.pi"
      ],
      "execution_count": null,
      "outputs": [
        {
          "output_type": "execute_result",
          "data": {
            "text/plain": [
              "3.141592653589793"
            ]
          },
          "metadata": {
            "tags": []
          },
          "execution_count": 19
        }
      ]
    },
    {
      "cell_type": "code",
      "metadata": {
        "colab": {
          "base_uri": "https://localhost:8080/"
        },
        "id": "OL2SgrQEh3KD",
        "outputId": "336b9dc2-9a45-4056-f275-76a4316890aa"
      },
      "source": [
        "math.pow(2,3)"
      ],
      "execution_count": null,
      "outputs": [
        {
          "output_type": "execute_result",
          "data": {
            "text/plain": [
              "8.0"
            ]
          },
          "metadata": {
            "tags": []
          },
          "execution_count": 20
        }
      ]
    },
    {
      "cell_type": "code",
      "metadata": {
        "colab": {
          "base_uri": "https://localhost:8080/"
        },
        "id": "QvV9aN2giF1D",
        "outputId": "e888b613-16c0-4f37-aadd-3cc96646e9a0"
      },
      "source": [
        "2 ** 3"
      ],
      "execution_count": null,
      "outputs": [
        {
          "output_type": "execute_result",
          "data": {
            "text/plain": [
              "8"
            ]
          },
          "metadata": {
            "tags": []
          },
          "execution_count": 21
        }
      ]
    }
  ]
}