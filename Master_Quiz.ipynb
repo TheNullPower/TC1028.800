{
  "nbformat": 4,
  "nbformat_minor": 0,
  "metadata": {
    "colab": {
      "name": "Master Quiz.ipynb",
      "provenance": []
    },
    "kernelspec": {
      "name": "python3",
      "display_name": "Python 3"
    },
    "language_info": {
      "name": "python"
    }
  },
  "cells": [
    {
      "cell_type": "markdown",
      "metadata": {
        "id": "kFV6v9Lr5FM3"
      },
      "source": [
        "### Problema 1"
      ]
    },
    {
      "cell_type": "markdown",
      "metadata": {
        "id": "lIroFZCrMYz5"
      },
      "source": [
        "Escribe una función que reciba como parámetro el año de nacimiento de una persona e imprima la edad de esa persona.\n",
        "\n",
        "Caso de prueba\n",
        "\n",
        "Entrada:\n",
        "\n",
        "2000\n",
        "\n",
        "Salida:\n",
        "\n",
        "La persona tiene 21 años"
      ]
    },
    {
      "cell_type": "code",
      "metadata": {
        "colab": {
          "base_uri": "https://localhost:8080/"
        },
        "id": "HJkzzB1q5Da7",
        "outputId": "301cb01a-6ac0-459a-eb03-a411042f6b76"
      },
      "source": [
        "def calcular_edad(año):\n",
        "\n",
        "  edad = 2021 - año\n",
        "\n",
        "  print(\"La persona tiene\", edad, \"años\")\n",
        "\n",
        "calcular_edad(2000)"
      ],
      "execution_count": null,
      "outputs": [
        {
          "output_type": "stream",
          "name": "stdout",
          "text": [
            "La persona tiene 21 años\n"
          ]
        }
      ]
    },
    {
      "cell_type": "markdown",
      "metadata": {
        "id": "9iQTKqno5jNP"
      },
      "source": [
        "### Problema 2"
      ]
    },
    {
      "cell_type": "markdown",
      "metadata": {
        "id": "JeCuGDhrMkQR"
      },
      "source": [
        "Escribe una función que pregunte la edad de una persona y pregunte si tiene (s/n) identificación oficial. La persona puede obtener su licencia de manejo si es mayor de edad y tiene identificación oficial.\n",
        "\n",
        "El programa debe mostrar: Si puede obtener su licencia o No puede obtener su licencia.\n",
        "\n",
        "Caso de prueba\n",
        "\n",
        "Entrada:\n",
        "\n",
        "20\n",
        "\n",
        "s\n",
        "\n",
        "Salida:\n",
        "\n",
        "Si puede obtener su licencia"
      ]
    },
    {
      "cell_type": "code",
      "metadata": {
        "colab": {
          "base_uri": "https://localhost:8080/"
        },
        "id": "aiLtzgyq5i_R",
        "outputId": "eedd7c69-df03-4b37-e7d9-44540f523979"
      },
      "source": [
        "def licencia():\n",
        "  edad = int(input(\"Ingresa la edad: \"))\n",
        "  id = input(\"Tiene ID oficial (s/n): \")\n",
        "\n",
        "  if edad >= 18 and id == \"s\":\n",
        "      print(\"Si puede obtener su licencia \")\n",
        "  else:\n",
        "      print(\"No puede obtener su licencia \")\n",
        "\n",
        "licencia()"
      ],
      "execution_count": null,
      "outputs": [
        {
          "output_type": "stream",
          "name": "stdout",
          "text": [
            "Ingresa la edad: 18\n",
            "Tiene ID oficial (s/n): s\n",
            "Si puede obtener su licencia \n"
          ]
        }
      ]
    },
    {
      "cell_type": "markdown",
      "metadata": {
        "id": "DtNdD4Lw6F-8"
      },
      "source": [
        "### Problema 3"
      ]
    },
    {
      "cell_type": "markdown",
      "metadata": {
        "id": "Dm_Pot00NMm0"
      },
      "source": [
        "Escribe un programa que pregunte un número flotante entre 0 y 1, que imprima una nota alfabética de acuerdo con la siguiente tabla.\n",
        "\n",
        "Score\n",
        "\n",
        "Nota\n",
        "\n",
        "\"> 0.9\"\n",
        "\n",
        "A\n",
        "\n",
        "\"> 0.8\"\n",
        "\n",
        "B\n",
        "\n",
        "\">0.7\"\n",
        "\n",
        "C\n",
        "\n",
        "\"> 0.6\"\n",
        "\n",
        "D\n",
        "\n",
        "\"<= 0.6\"\n",
        "\n",
        "F\n",
        "\n",
        "NOTA: Si la entrada no está dentro del rango de 0 a 1, la función debe regresar la leyenda \"score incorrecto\" (sin las comillas).\n",
        "\n",
        "Caso de prueba\n",
        "\n",
        "Entrada:\n",
        "\n",
        "0.85\n",
        "\n",
        "Salida:\n",
        "\n",
        "La nota es B"
      ]
    },
    {
      "cell_type": "code",
      "metadata": {
        "colab": {
          "base_uri": "https://localhost:8080/"
        },
        "id": "ND5-IDC65Xuk",
        "outputId": "5a667083-3b31-4e41-9e2b-6af4ece45dd5"
      },
      "source": [
        "  a = float(input(\"Ingresa un número decimal entre 0 y 1: \"))\n",
        "\n",
        "  if a < 0 or a > 1:\n",
        "    print(\"Score Incorrecto\")\n",
        "  elif a > 0.9:\n",
        "    print(\"A\")\n",
        "  elif a > 0.8:\n",
        "    print(\"B\")\n",
        "  elif a > 0.7:\n",
        "    print(\"C\")\n",
        "  elif a > 0.6:\n",
        "    print(\"D\")\n",
        "  elif a <= 0.6:\n",
        "    print(\"F\")"
      ],
      "execution_count": null,
      "outputs": [
        {
          "output_type": "stream",
          "name": "stdout",
          "text": [
            "Ingresa un número con decimales entre 0 y 1: 8\n",
            "Score Incorrecto\n"
          ]
        }
      ]
    },
    {
      "cell_type": "markdown",
      "metadata": {
        "id": "A5ecdp4r7Udf"
      },
      "source": [
        "### Problema 4"
      ]
    },
    {
      "cell_type": "markdown",
      "metadata": {
        "id": "VI4hhgbCNpqK"
      },
      "source": [
        "Escribe un programa que pregunte a un alumno cuántas materias está cursando en el semestre y la calificación que lleva en cada, como enteros. Con esto deberá imprimir el promedio del semestre sin decimales. Recuerda que 0.5 o más redondea al entero siguiente.\n",
        "\n",
        "Caso de prueba\n",
        "\n",
        "Entrada:\n",
        "\n",
        "5\n",
        "\n",
        "80\n",
        "\n",
        "90\n",
        "\n",
        "70\n",
        "\n",
        "100\n",
        "\n",
        "69\n",
        "\n",
        "Salida:\n",
        "\n",
        "El promedio del semestre es 82"
      ]
    },
    {
      "cell_type": "code",
      "metadata": {
        "colab": {
          "base_uri": "https://localhost:8080/"
        },
        "id": "L6rRpVPa7WcT",
        "outputId": "d0c98f42-b78e-4700-9f7f-2bcc26d812e5"
      },
      "source": [
        "materias = int(input(\"Ingresa la cantidad de materias: \"))\n",
        "\n",
        "suma = 0\n",
        "for materia in range(materias):\n",
        "  nota = int(input(\"Ingresa la nota de la materia \"+ str(materia + 1) + \": \"))\n",
        "\n",
        "  suma = suma + nota\n",
        "\n",
        "promedio = suma / materias\n",
        "print(\"El promedio del semestre es \", round(promedio, 0))"
      ],
      "execution_count": null,
      "outputs": [
        {
          "output_type": "stream",
          "name": "stdout",
          "text": [
            "Ingresa la cantidad de materias: 5\n",
            "Ingresa la nota de la materia 1: 69\n",
            "Ingresa la nota de la materia 2: 70\n",
            "Ingresa la nota de la materia 3: 80\n",
            "Ingresa la nota de la materia 4: 90\n",
            "Ingresa la nota de la materia 5: 100\n",
            "El promedio del semestre es  82.0\n"
          ]
        }
      ]
    },
    {
      "cell_type": "markdown",
      "metadata": {
        "id": "2u-tX0Sa9Mli"
      },
      "source": [
        "### Problema 5"
      ]
    },
    {
      "cell_type": "markdown",
      "metadata": {
        "id": "EM63t0nsOTiY"
      },
      "source": [
        "Escribe un programa para mostrar un menú con tres opciones y preguntar por alguna:\n",
        "\n",
        "A. Calcular edad\n",
        "B. Obtener licencia\n",
        "C. Funciones usadas\n",
        "\n",
        "El usuario debe seleccionar una opción (A, B o C). Si elige una opción incorrecta, indicar “ERROR, elige una opción válida”, volver a mostrar el menú y preguntar de nuevo.\n",
        "\n",
        "Si el usuario teclea una “X” el programa finalizará con un mensaje de despedida.\n",
        "\n",
        "El menú se debe volver a mostrar luego de ejecutada cada opción, permitiendo volver a elegir.\n",
        "\n",
        "Si elige la opción A se deberá llamar a la función del problema 1 (“Calcular edad”), si elige la opción B se deberá llamar a la función del problema 2 (“Obtener licencia”), si elige la opción C, se deberá mostrar el conteo de funciones usadas en el programa.\n",
        "\n",
        "\n",
        "Caso de prueba\n",
        "\n",
        "Entrada:\n",
        "\n",
        "A, B, C, X"
      ]
    },
    {
      "cell_type": "code",
      "metadata": {
        "colab": {
          "base_uri": "https://localhost:8080/"
        },
        "id": "HVhJvcJf78ym",
        "outputId": "cb0d8af4-321f-46ef-a3d8-20dade0327f0"
      },
      "source": [
        "\n",
        "contador = 0\n",
        "while True:\n",
        "  print(\"A. Calcular Edad\")\n",
        "  print(\"B. Mostrar nota\")\n",
        "  print(\"C. Opciones elegidas\")\n",
        "\n",
        "  opcion = input(\"Selecciona una opción: \")\n",
        "\n",
        "  if opcion == \"A\":\n",
        "    calcular_edad(2000)\n",
        "    contador += 1\n",
        "  elif opcion == \"B\":\n",
        "    licencia()\n",
        "    contador += 1\n",
        "  elif opcion == \"C\":\n",
        "    print(\"La cantidad de opciones elegidas es\", contador)\n",
        "  elif opcion == \"X\":\n",
        "    print(\"Hasta luego\")\n",
        "    break\n",
        "  else:\n",
        "    print(\"ERROR, elige una opción válida\")"
      ],
      "execution_count": null,
      "outputs": [
        {
          "output_type": "stream",
          "name": "stdout",
          "text": [
            "A. Calcular Edad\n",
            "B. Mostrar nota\n",
            "C. Opciones elegidas\n",
            "Selecciona una opción: A\n",
            "La persona tiene 21 años\n",
            "A. Calcular Edad\n",
            "B. Mostrar nota\n",
            "C. Opciones elegidas\n",
            "Selecciona una opción: B\n",
            "Ingresa la edad: 18\n",
            "Tiene ID oficial (s/n): s\n",
            "Si puede obtener su licencia \n",
            "A. Calcular Edad\n",
            "B. Mostrar nota\n",
            "C. Opciones elegidas\n",
            "Selecciona una opción: C\n",
            "La cantidad de opciones elegidas es 2\n",
            "A. Calcular Edad\n",
            "B. Mostrar nota\n",
            "C. Opciones elegidas\n",
            "Selecciona una opción: X\n",
            "Hasta luego\n"
          ]
        }
      ]
    }
  ]
}