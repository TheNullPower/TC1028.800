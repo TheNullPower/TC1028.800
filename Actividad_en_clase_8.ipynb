{
  "nbformat": 4,
  "nbformat_minor": 0,
  "metadata": {
    "colab": {
      "name": "Actividad en clase 8.ipynb",
      "provenance": [],
      "authorship_tag": "ABX9TyMJp1Q+nW4HTq98pyeivWop"
    },
    "kernelspec": {
      "name": "python3",
      "display_name": "Python 3"
    },
    "language_info": {
      "name": "python"
    }
  },
  "cells": [
    {
      "cell_type": "markdown",
      "metadata": {
        "id": "AD4aGVt0EVRZ"
      },
      "source": [
        "# Actividad en clase 8: Construcción de programas que utilizan repeticiones - FOR y WHILE"
      ]
    },
    {
      "cell_type": "markdown",
      "metadata": {
        "id": "7pejLWrM63BG"
      },
      "source": [
        "### Problema 1"
      ]
    },
    {
      "cell_type": "markdown",
      "metadata": {
        "id": "DjG6LiEt64wP"
      },
      "source": [
        "Muestra el promedio de todos los números capturados por el usuario. Primero, pregunta por la cantidad de números que el usuario desea capturar y luego pregunta por cada uno de los números y después despliega en pantalla el promedio de todos los números."
      ]
    },
    {
      "cell_type": "code",
      "metadata": {
        "colab": {
          "base_uri": "https://localhost:8080/"
        },
        "id": "FIFR4QGf65xj",
        "outputId": "8712727c-f169-4f07-f358-ab1e3fafdf45"
      },
      "source": [
        "cantidad_numeros = int(input(\"Ingresa la cantidad de números a promediar: \"))\n",
        "suma = 0\n",
        "\n",
        "for num in range(cantidad_numeros):\n",
        "\n",
        "  numero = int(input(\"Ingresa el número \"+ str(num + 1) + \" a promediar: \"))\n",
        "\n",
        "  suma = suma + numero\n",
        "\n",
        "promedio = suma / cantidad_numeros\n",
        "print(\"El promedio de los números es\", round(promedio, 2))"
      ],
      "execution_count": null,
      "outputs": [
        {
          "output_type": "stream",
          "name": "stdout",
          "text": [
            "Ingresa la cantidad de números a promediar: 3\n",
            "Ingresa el número 1 a promediar: 10\n",
            "Ingresa el número 2 a promediar: 10\n",
            "Ingresa el número 3 a promediar: 5\n",
            "El promedio de los números es 8.33\n"
          ]
        }
      ]
    },
    {
      "cell_type": "markdown",
      "metadata": {
        "id": "oWhJldyT-EwU"
      },
      "source": [
        "### Problema 2"
      ]
    },
    {
      "cell_type": "markdown",
      "metadata": {
        "id": "Tez66HM5-HRg"
      },
      "source": [
        "Cuenta de inversión:\n",
        "\n",
        "En una cuenta de inversion, a principios del año 2020, el saldo era de 100,500 pesos. El banco da un rendimiento de 8% de interés anual, donde cada mes el porcentaje de interés calculado se acumula al saldo de la cuenta, es decir, cada mes el saldo de la cuenta al final del mes, es igual al saldo en ese momento, más el cálculo del interés mensual.\n",
        "\n",
        "saldo = saldo + saldo * (interes / 12)\n",
        "\n",
        "En el mes de julio se va hacer un retiro por 90,500 pesos.\n",
        "\n",
        "Y el mes de octubre se va hacer un depósito por 50,000 pesos.\n",
        "\n",
        "Utiliza el estatuto for para calcular y desplegar cuánto va a ser el saldo de la cuenta al final del año."
      ]
    },
    {
      "cell_type": "code",
      "metadata": {
        "colab": {
          "base_uri": "https://localhost:8080/"
        },
        "id": "vRyiNwiw-GuW",
        "outputId": "bc101c64-a1bc-455d-e80b-c3615cb5f7c4"
      },
      "source": [
        "saldo = 100500\n",
        "interes = 0.08\n",
        "retiro_julio = 90500\n",
        "deposito_octubre = 50000\n",
        "\n",
        "for mes in range(1, 12 + 1):\n",
        "\n",
        "  saldo = saldo + saldo * (interes / 12)\n",
        "  \n",
        "\n",
        "  if mes == 7:\n",
        "    saldo = saldo - retiro_julio\n",
        "  \n",
        "  if mes == 10:\n",
        "    saldo = saldo + deposito_octubre\n",
        "  \n",
        "  print(\"El saldo en el mes\", mes, \"es\",saldo)\n",
        "\n",
        "print(\"El saldo al final del año es $\"+ str(round(saldo, 0)))"
      ],
      "execution_count": null,
      "outputs": [
        {
          "output_type": "stream",
          "name": "stdout",
          "text": [
            "El saldo en el mes 1 es 101170.0\n",
            "El saldo en el mes 2 es 101844.46666666666\n",
            "El saldo en el mes 3 es 102523.42977777777\n",
            "El saldo en el mes 4 es 103206.91930962962\n",
            "El saldo en el mes 5 es 103894.96543836048\n",
            "El saldo en el mes 6 es 104587.59854128289\n",
            "El saldo en el mes 7 es 14784.84919822478\n",
            "El saldo en el mes 8 es 14883.414859546278\n",
            "El saldo en el mes 9 es 14982.637625276586\n",
            "El saldo en el mes 10 es 65082.521876111765\n",
            "El saldo en el mes 11 es 65516.405355285846\n",
            "El saldo en el mes 12 es 65953.18139098775\n",
            "El saldo al final del año es $65953.0\n"
          ]
        }
      ]
    },
    {
      "cell_type": "markdown",
      "metadata": {
        "id": "_loFFuruDyfK"
      },
      "source": [
        "### Problema 3"
      ]
    },
    {
      "cell_type": "markdown",
      "metadata": {
        "id": "2xHksptMDzpp"
      },
      "source": [
        "Escribe un programa que desplique la palabra Python letra por letra formando el siguiente patrón:\n",
        "\n",
        "P\n",
        "\n",
        "Py\n",
        "\n",
        "Pyt\n",
        "\n",
        "Pyth\n",
        "\n",
        "Pytho\n",
        "\n",
        "Python"
      ]
    },
    {
      "cell_type": "code",
      "metadata": {
        "colab": {
          "base_uri": "https://localhost:8080/"
        },
        "id": "p-qr7GirD0iF",
        "outputId": "42a59e36-6d03-44e7-867a-0d2d0f7460b3"
      },
      "source": [
        "palabra = \"Python\"\n",
        "patron = \"\"\n",
        "\n",
        "for letra in palabra:\n",
        "  patron = patron + letra\n",
        "  print(patron)\n"
      ],
      "execution_count": null,
      "outputs": [
        {
          "output_type": "stream",
          "name": "stdout",
          "text": [
            "P\n",
            "Py\n",
            "Pyt\n",
            "Pyth\n",
            "Pytho\n",
            "Python\n"
          ]
        }
      ]
    },
    {
      "cell_type": "markdown",
      "metadata": {
        "id": "OlgjnTDfGdQ8"
      },
      "source": [
        "### Explicación del ciclo while"
      ]
    },
    {
      "cell_type": "code",
      "metadata": {
        "colab": {
          "base_uri": "https://localhost:8080/"
        },
        "id": "PkZ6I0utGf-5",
        "outputId": "e1008576-4f8f-478e-cfd7-52439f2cb003"
      },
      "source": [
        "edad = int(input(\"Ingresa la edad: \"))\n",
        "\n",
        "while edad >= 18:\n",
        "  print(\"Pueden entrar\")\n",
        "\n",
        "  edad = int(input(\"Ingresa la edad: \"))\n",
        "\n",
        "\n",
        "print(\"No puede entrar\")\n",
        "\n"
      ],
      "execution_count": null,
      "outputs": [
        {
          "output_type": "stream",
          "name": "stdout",
          "text": [
            "Ingresa la edad: 20\n",
            "Pueden entrar\n",
            "Ingresa la edad: 15\n",
            "No puede entrar\n"
          ]
        }
      ]
    },
    {
      "cell_type": "code",
      "metadata": {
        "colab": {
          "base_uri": "https://localhost:8080/"
        },
        "id": "jJG0jd_LIM0m",
        "outputId": "2f60dab7-246f-4cb3-9c32-997e910c7afb"
      },
      "source": [
        "while True:\n",
        "  edad = int(input(\"Ingresa la edad: \"))\n",
        "\n",
        "  if edad >= 18:\n",
        "    print(\"Pueden entrar\")\n",
        "  else:\n",
        "    print(\"NO puede entrar\")\n",
        "    break\n"
      ],
      "execution_count": null,
      "outputs": [
        {
          "output_type": "stream",
          "name": "stdout",
          "text": [
            "Ingresa la edad: 25\n",
            "Pueden entrar\n",
            "Ingresa la edad: 15\n",
            "NO puede entrar\n"
          ]
        }
      ]
    },
    {
      "cell_type": "markdown",
      "metadata": {
        "id": "lSKQ7H3HGDhZ"
      },
      "source": [
        "### Problema 4"
      ]
    },
    {
      "cell_type": "markdown",
      "metadata": {
        "id": "5xy44xAUGF0b"
      },
      "source": [
        "Suma los números enteros (positivos y negativos) que el usuario teclee, deberás dejar de preguntar por números hasta que la suma de todos los números capturados sea igual a cero."
      ]
    },
    {
      "cell_type": "code",
      "metadata": {
        "colab": {
          "base_uri": "https://localhost:8080/"
        },
        "id": "jFKetzEqGGcc",
        "outputId": "8b98f078-d3b1-4e56-ffaf-405b3a0fe974"
      },
      "source": [
        "suma = 0\n",
        "\n",
        "while True:\n",
        "\n",
        "  numero = int(input(\"Ingresa un número: \"))\n",
        "\n",
        "  suma = suma + numero\n",
        "  print(suma)\n",
        "\n",
        "  if suma == 0:\n",
        "    break\n"
      ],
      "execution_count": null,
      "outputs": [
        {
          "output_type": "stream",
          "name": "stdout",
          "text": [
            "Ingresa un número: 10\n",
            "10\n",
            "Ingresa un número: 20\n",
            "30\n",
            "Ingresa un número: 40\n",
            "70\n",
            "Ingresa un número: -70\n",
            "0\n"
          ]
        }
      ]
    },
    {
      "cell_type": "markdown",
      "metadata": {
        "id": "NcGpGYYlKiIx"
      },
      "source": [
        "### Problema 5"
      ]
    },
    {
      "cell_type": "markdown",
      "metadata": {
        "id": "ZRS-WIYjKkRJ"
      },
      "source": [
        "Recupera el código de tu programa de la calculadora de IMC (índice de masa corporal) y realiza las adecuaciones para que la calculadora le permita al usuario calcular repetidamente el IMC de los pacientes en un consultorio."
      ]
    },
    {
      "cell_type": "code",
      "metadata": {
        "colab": {
          "base_uri": "https://localhost:8080/"
        },
        "id": "ViMj02zNKlQt",
        "outputId": "7ba92db3-1aa9-41ec-dc6c-20142f011d22"
      },
      "source": [
        "def calcular_imc():\n",
        "  altura = float(input(\"Ingresa la altura en metros:\"))\n",
        "  peso = float(input(\"Ingresa la peso en kilogramos:\"))\n",
        "\n",
        "  imc = peso / altura ** 2\n",
        "  print(\"El IMC es de\", round(imc, 2), \"e indica:\")\n",
        "\n",
        "  if imc < 20:\n",
        "    print(\"Peso bajo\")\n",
        "  elif imc >= 20 and imc < 25:\n",
        "    print(\"Peso normal\")\n",
        "  elif 25 <= imc and imc < 30:\n",
        "    print(\"Sobrepeso\")\n",
        "  elif 30 <= imc and imc < 40:\n",
        "    print(\"Obesidad\")\n",
        "  else:\n",
        "    print(\"No se cuenta con descripción para este rango\")\n",
        "\n",
        "continuar = \"SI\"\n",
        "\n",
        "while continuar == \"SI\":\n",
        "  calcular_imc()\n",
        "\n",
        "  continuar = input(\"¿Deseas calcular otro IMC? SI / NO\")\n",
        "\n",
        "print(\"Hasta luego\")\n"
      ],
      "execution_count": null,
      "outputs": [
        {
          "output_type": "stream",
          "name": "stdout",
          "text": [
            "Ingresa la altura en metros:1.8\n",
            "Ingresa la peso en kilogramos:84\n",
            "El IMC es de 25.93 e indica:\n",
            "Sobrepeso\n",
            "¿Deseas calcular otro IMC? SI / NOno\n",
            "Hasta luego\n"
          ]
        }
      ]
    },
    {
      "cell_type": "markdown",
      "metadata": {
        "id": "Pcn5fJb7M9X2"
      },
      "source": [
        "### Problema 6"
      ]
    },
    {
      "cell_type": "markdown",
      "metadata": {
        "id": "2q3D1gHfM_d7"
      },
      "source": [
        "Escribe un programa que pregunte el nombre del usuario y contraseña, que valide si son correctas y si alguna no es correcta, que vuela a preguntar hasta que sean correctas y despliegue el mensaje: \"Bienvenido, usuario.\""
      ]
    },
    {
      "cell_type": "code",
      "metadata": {
        "colab": {
          "base_uri": "https://localhost:8080/"
        },
        "id": "N2mcPtjRM-xT",
        "outputId": "4ab6e90b-51af-4c3c-fbaf-235853e9afd4"
      },
      "source": [
        "user = \"Germán\"\n",
        "pswrd = \"sensei\" \n",
        "\n",
        "while True:\n",
        "\n",
        "  usuario = input(\"Ingresa tu usuario: \")\n",
        "  contra = input(\"Ingresa tu contraseña: \") \n",
        "\n",
        "  if usuario == user and contra == pswrd:\n",
        "    print(\"Bienvenido,\", usuario)\n",
        "    break\n",
        "  \n",
        "  else:\n",
        "    print(\"Usuario o contraseña incorrectos, intente de nuevo\")"
      ],
      "execution_count": null,
      "outputs": [
        {
          "output_type": "stream",
          "name": "stdout",
          "text": [
            "Ingresa tu usuario: Germán\n",
            "Ingresa tu contraseña: 1234\n",
            "Usuario o contraseña incorrectos, intente de nuevo\n",
            "Ingresa tu usuario: Germán\n",
            "Ingresa tu contraseña: sensei\n",
            "Bienvenido, Germán\n"
          ]
        }
      ]
    }
  ]
}