{
  "nbformat": 4,
  "nbformat_minor": 0,
  "metadata": {
    "colab": {
      "name": "Etapa 1 del Proyecto Integrador.ipynb",
      "provenance": [],
      "authorship_tag": "ABX9TyMQBLg2Od8vTr3IMWrMfGF7"
    },
    "kernelspec": {
      "name": "python3",
      "display_name": "Python 3"
    },
    "language_info": {
      "name": "python"
    }
  },
  "cells": [
    {
      "cell_type": "code",
      "metadata": {
        "id": "OcdKJgwhUbrV"
      },
      "source": [
        "def alta_empleado(): # def registrar_pregunta():\n",
        "  pass\n",
        "\n",
        "def menu():\n",
        "  pass\n",
        "\n",
        "def main():\n",
        "  menu()"
      ],
      "execution_count": 1,
      "outputs": []
    }
  ]
}